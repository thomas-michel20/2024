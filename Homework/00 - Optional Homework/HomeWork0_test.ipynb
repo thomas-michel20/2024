{
 "cells": [
  {
   "cell_type": "code",
   "execution_count": null,
   "metadata": {},
   "outputs": [],
   "source": [
    "import pandas as pd\n",
    "\n",
    "INFILE_NAME = './interactive_data.csv'\n",
    "\n",
    "with open(INFILE_NAME) as file:\n",
    "    df = pd.read_csv(file)\n",
    "df.head(2)\n",
    "\n"
   ]
  },
  {
   "cell_type": "code",
   "execution_count": null,
   "metadata": {},
   "outputs": [],
   "source": [
    "if __name__ == '__main__':\n",
    "    df_filtered = df.loc[~(df == 'None selected').any(axis=1)]\n",
    "    total_deaths = df_filtered['Deaths'].sum()\n",
    "    suicides_nbr = df_filtered[df_filtered['Intent'] == 'Suicide']['Deaths'].sum()\n",
    "    print('Percentage of suicides = %.1f' %(100 * suicides_nbr/total_deaths))\n",
    "\n",
    "    male_suicides = df_filtered[(df_filtered['Intent'] == 'Suicide') & (df_filtered['Gender'] == 'Male')]['Deaths'].sum()\n",
    "    print(f'Percentage of males in suicides = {round((100 * male_suicides/suicides_nbr),2)} %')"
   ]
  }
 ],
 "metadata": {
  "language_info": {
   "name": "python"
  }
 },
 "nbformat": 4,
 "nbformat_minor": 2
}
